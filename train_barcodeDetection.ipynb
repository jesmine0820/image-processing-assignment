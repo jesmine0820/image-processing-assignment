{
 "cells": [
  {
   "cell_type": "code",
   "execution_count": null,
   "id": "2649a55d",
   "metadata": {},
   "outputs": [],
   "source": [
    "# Full code for the barcode detection model\n",
    "# For training and presentation purpose"
   ]
  },
  {
   "cell_type": "markdown",
   "id": "16cde3af",
   "metadata": {},
   "source": [
    "# Gan Khai Li"
   ]
  },
  {
   "cell_type": "markdown",
   "id": "366e98ca",
   "metadata": {},
   "source": [
    "# Kit Chin Jie Ying"
   ]
  }
 ],
 "metadata": {
  "kernelspec": {
   "display_name": "environment",
   "language": "python",
   "name": "python3"
  },
  "language_info": {
   "name": "python",
   "version": "3.12.9"
  }
 },
 "nbformat": 4,
 "nbformat_minor": 5
}
