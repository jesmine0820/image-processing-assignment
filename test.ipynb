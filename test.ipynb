{
 "cells": [
  {
   "cell_type": "code",
   "execution_count": 6,
   "id": "0f1c4a7d",
   "metadata": {},
   "outputs": [
    {
     "name": "stdout",
     "output_type": "stream",
     "text": [
      "Applied providers: ['CPUExecutionProvider'], with options: {'CPUExecutionProvider': {}}\n",
      "find model: C:\\Users\\User/.insightface\\models\\buffalo_l\\1k3d68.onnx landmark_3d_68 ['None', 3, 192, 192] 0.0 1.0\n",
      "Applied providers: ['CPUExecutionProvider'], with options: {'CPUExecutionProvider': {}}\n",
      "find model: C:\\Users\\User/.insightface\\models\\buffalo_l\\2d106det.onnx landmark_2d_106 ['None', 3, 192, 192] 0.0 1.0\n",
      "Applied providers: ['CPUExecutionProvider'], with options: {'CPUExecutionProvider': {}}\n",
      "find model: C:\\Users\\User/.insightface\\models\\buffalo_l\\det_10g.onnx detection [1, 3, '?', '?'] 127.5 128.0\n",
      "Applied providers: ['CPUExecutionProvider'], with options: {'CPUExecutionProvider': {}}\n",
      "find model: C:\\Users\\User/.insightface\\models\\buffalo_l\\genderage.onnx genderage ['None', 3, 96, 96] 0.0 1.0\n",
      "Applied providers: ['CPUExecutionProvider'], with options: {'CPUExecutionProvider': {}}\n",
      "find model: C:\\Users\\User/.insightface\\models\\buffalo_l\\w600k_r50.onnx recognition ['None', 3, 112, 112] 127.5 127.5\n",
      "set det-size: (640, 640)\n",
      "Starting camera. Press 'q' to quit.\n"
     ]
    }
   ],
   "source": [
    "import cv2\n",
    "import numpy as np\n",
    "import insightface\n",
    "from insightface.app import FaceAnalysis\n",
    "\n",
    "# Initialize FaceAnalysis with pretrained model\n",
    "app = FaceAnalysis(name=\"buffalo_l\")\n",
    "app.prepare(ctx_id=0, det_size=(640, 640))  # Set ctx_id=-1 for GPU if needed\n",
    "\n",
    "# Load and embed reference image (your face)\n",
    "def get_embedding(image_path):\n",
    "    img = cv2.imread(image_path)\n",
    "    faces = app.get(img)\n",
    "    if not faces:\n",
    "        raise ValueError(\"No face detected in the reference image.\")\n",
    "    return faces[0].embedding\n",
    "\n",
    "your_embedding = get_embedding(\"image-processing-assignment/Photos/2408866.jpg\")  # Replace with your face image\n",
    "\n",
    "# Cosine similarity function\n",
    "def cosine_similarity(emb1, emb2):\n",
    "    emb1 = emb1 / np.linalg.norm(emb1)\n",
    "    emb2 = emb2 / np.linalg.norm(emb2)\n",
    "    return np.dot(emb1, emb2)\n",
    "\n",
    "# Start webcam\n",
    "cap = cv2.VideoCapture(0)\n",
    "threshold = 0.8  # You may tune this (try 0.45 ~ 0.6 for cosine similarity)\n",
    "\n",
    "print(\"Starting camera. Press 'q' to quit.\")\n",
    "\n",
    "while True:\n",
    "    ret, frame = cap.read()\n",
    "    if not ret:\n",
    "        break\n",
    "\n",
    "    faces = app.get(frame)\n",
    "\n",
    "    label = \"No face\"\n",
    "    for face in faces:\n",
    "        sim = cosine_similarity(your_embedding, face.embedding)\n",
    "        if sim > threshold:\n",
    "            label = f\"You ({sim:.2f})\"\n",
    "            color = (0, 255, 0)\n",
    "        else:\n",
    "            label = f\"Not You ({sim:.2f})\"\n",
    "            color = (0, 0, 255)\n",
    "\n",
    "        box = face.bbox.astype(int)\n",
    "        cv2.rectangle(frame, (box[0], box[1]), (box[2], box[3]), color, 2)\n",
    "        cv2.putText(frame, label, (box[0], box[1] - 10),\n",
    "                    cv2.FONT_HERSHEY_SIMPLEX, 0.8, color, 2)\n",
    "\n",
    "    cv2.imshow(\"Face Recognition\", frame)\n",
    "    if cv2.waitKey(1) & 0xFF == ord('q'):\n",
    "        break\n",
    "\n",
    "cap.release()\n",
    "cv2.destroyAllWindows()\n"
   ]
  },
  {
   "cell_type": "code",
   "execution_count": null,
   "id": "d1c3d1c1",
   "metadata": {},
   "outputs": [],
   "source": []
  }
 ],
 "metadata": {
  "kernelspec": {
   "display_name": "environment",
   "language": "python",
   "name": "python3"
  },
  "language_info": {
   "codemirror_mode": {
    "name": "ipython",
    "version": 3
   },
   "file_extension": ".py",
   "mimetype": "text/x-python",
   "name": "python",
   "nbconvert_exporter": "python",
   "pygments_lexer": "ipython3",
   "version": "3.12.9"
  }
 },
 "nbformat": 4,
 "nbformat_minor": 5
}
