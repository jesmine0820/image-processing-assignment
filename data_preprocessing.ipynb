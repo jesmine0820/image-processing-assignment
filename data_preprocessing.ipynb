{
 "cells": [
  {
   "cell_type": "markdown",
   "id": "099f3208",
   "metadata": {},
   "source": [
    "Done liao, dont touch"
   ]
  },
  {
   "cell_type": "code",
   "execution_count": 4,
   "id": "778f14bd",
   "metadata": {},
   "outputs": [],
   "source": [
    "import os\n",
    "import cv2 as cv\n",
    "import pickle\n",
    "import sqlite3\n",
    "import csv\n",
    "from insightface.app import FaceAnalysis\n",
    "from huggingface_hub import HfApi"
   ]
  },
  {
   "cell_type": "code",
   "execution_count": 8,
   "id": "e847f609",
   "metadata": {},
   "outputs": [
    {
     "name": "stderr",
     "output_type": "stream",
     "text": [
      "c:\\Users\\User\\anaconda3\\envs\\environment\\Lib\\site-packages\\onnxruntime\\capi\\onnxruntime_inference_collection.py:121: UserWarning: Specified provider 'CUDAExecutionProvider' is not in available provider names.Available providers: 'AzureExecutionProvider, CPUExecutionProvider'\n",
      "  warnings.warn(\n"
     ]
    },
    {
     "name": "stdout",
     "output_type": "stream",
     "text": [
      "Applied providers: ['CPUExecutionProvider'], with options: {'CPUExecutionProvider': {}}\n",
      "find model: C:\\Users\\User/.insightface\\models\\buffalo_l\\1k3d68.onnx landmark_3d_68 ['None', 3, 192, 192] 0.0 1.0\n",
      "Applied providers: ['CPUExecutionProvider'], with options: {'CPUExecutionProvider': {}}\n",
      "find model: C:\\Users\\User/.insightface\\models\\buffalo_l\\2d106det.onnx landmark_2d_106 ['None', 3, 192, 192] 0.0 1.0\n",
      "Applied providers: ['CPUExecutionProvider'], with options: {'CPUExecutionProvider': {}}\n",
      "find model: C:\\Users\\User/.insightface\\models\\buffalo_l\\det_10g.onnx detection [1, 3, '?', '?'] 127.5 128.0\n",
      "Applied providers: ['CPUExecutionProvider'], with options: {'CPUExecutionProvider': {}}\n",
      "find model: C:\\Users\\User/.insightface\\models\\buffalo_l\\genderage.onnx genderage ['None', 3, 96, 96] 0.0 1.0\n",
      "Applied providers: ['CPUExecutionProvider'], with options: {'CPUExecutionProvider': {}}\n",
      "find model: C:\\Users\\User/.insightface\\models\\buffalo_l\\w600k_r50.onnx recognition ['None', 3, 112, 112] 127.5 127.5\n",
      "set det-size: (640, 640)\n"
     ]
    },
    {
     "name": "stderr",
     "output_type": "stream",
     "text": [
      "c:\\Users\\User\\anaconda3\\envs\\environment\\Lib\\site-packages\\insightface\\utils\\transform.py:68: FutureWarning: `rcond` parameter will change to the default of machine precision times ``max(M, N)`` where M and N are the input matrix dimensions.\n",
      "To use the future default and silence this warning we advise to pass `rcond=None`, to keep using the old, explicitly pass `rcond=-1`.\n",
      "  P = np.linalg.lstsq(X_homo, Y)[0].T # Affine matrix. 3 x 4\n"
     ]
    },
    {
     "name": "stdout",
     "output_type": "stream",
     "text": [
      "[INFO] Saved embeddings to database/face_embeddings.pkl\n"
     ]
    },
    {
     "data": {
      "text/plain": [
       "'database/face_embeddings.pkl'"
      ]
     },
     "execution_count": 8,
     "metadata": {},
     "output_type": "execute_result"
    }
   ],
   "source": [
    "\n",
    "# Initialize InsightFace with CPU fallback\n",
    "try:\n",
    "    app = FaceAnalysis(providers=['CUDAExecutionProvider', 'CPUExecutionProvider'])\n",
    "except Exception:\n",
    "    app = FaceAnalysis(providers=['CPUExecutionProvider'])\n",
    "app.prepare(ctx_id=0, det_size=(640, 640))\n",
    "\n",
    "def get_file_from_user(folder_path: str) -> str:\n",
    "    \"\"\"Validate input folder path.\"\"\"\n",
    "    if not os.path.exists(folder_path):\n",
    "        raise FileNotFoundError(f\"Folder not found: {folder_path}\")\n",
    "    return folder_path\n",
    "\n",
    "def process_img(folder_path: str, output_file=\"database/face_embeddings.pkl\"):\n",
    "    \"\"\"Extract embeddings from all images in a folder and save to pickle.\"\"\"\n",
    "    embeddings_data = []\n",
    "\n",
    "    for filename in os.listdir(folder_path):\n",
    "        if filename.lower().endswith(('.jpg', '.jpeg', '.png')):\n",
    "            img_path = os.path.join(folder_path, filename)\n",
    "            img = cv.imread(img_path)\n",
    "            if img is None:\n",
    "                print(f\"[WARNING] Could not read {filename}\")\n",
    "                continue\n",
    "\n",
    "            img_rgb = cv.cvtColor(img, cv.COLOR_BGR2RGB)\n",
    "            faces = app.get(img_rgb)\n",
    "\n",
    "            if not faces:\n",
    "                print(f\"[WARNING] No face found in {filename}\")\n",
    "                continue\n",
    "\n",
    "            face = faces[0]  # Take first face\n",
    "            embedding = face.normed_embedding\n",
    "            user_id = os.path.splitext(filename)[0]\n",
    "\n",
    "            embeddings_data.append({\n",
    "                'id': user_id,\n",
    "                'image_name': filename,\n",
    "                'embedding': embedding\n",
    "            })\n",
    "\n",
    "    # Save embeddings\n",
    "    with open(output_file, \"wb\") as f:\n",
    "        pickle.dump(embeddings_data, f, protocol=pickle.HIGHEST_PROTOCOL)\n",
    "\n",
    "    print(f\"[INFO] Saved embeddings to {output_file}\")\n",
    "    return output_file\n",
    "\n",
    "def save_to_hf(file, repo_id=\"jesmine0820/assignment_face_recognition\", hf_token=None):\n",
    "    \"\"\"Upload pickle file to HuggingFace Hub dataset repo.\"\"\"\n",
    "    api = HfApi(token=hf_token)\n",
    "    try:\n",
    "        api.upload_file(\n",
    "            path_or_fileobj=file,\n",
    "            path_in_repo=os.path.basename(file),\n",
    "            repo_id=repo_id,\n",
    "            repo_type=\"dataset\"\n",
    "        )\n",
    "        print(f\"[INFO] Uploaded {file} to {repo_id}\")\n",
    "    except Exception as e:\n",
    "        print(f\"[ERROR] Failed to upload {file} to HuggingFace: {e}\")\n",
    "    \n",
    "process_img(\"photos\")"
   ]
  },
  {
   "cell_type": "code",
   "execution_count": 10,
   "id": "1082499b",
   "metadata": {},
   "outputs": [],
   "source": [
    "INFO_FILE = \"database/information.db\"\n",
    "os.makedirs(\"database\", exist_ok=True)\n",
    "\n",
    "def create_info_db():\n",
    "    \"\"\"Initialize the SQLite database and return connection + cursor.\"\"\"\n",
    "    conn = sqlite3.connect(INFO_FILE, check_same_thread=False)\n",
    "    cursor = conn.cursor()\n",
    "    cursor.execute('''\n",
    "            CREATE TABLE IF NOT EXISTS student_info (\n",
    "                   id TEXT PRIMARY KEY,\n",
    "                   name TEXT,\n",
    "                   faculty TEXT,\n",
    "                   course TEXT,\n",
    "                   cgpa NUMBER\n",
    "                   )\n",
    "                   ''')\n",
    "    conn.commit()\n",
    "    return conn, cursor\n",
    "\n",
    "def insert_from_csv(csv_path):\n",
    "    conn, cursor = create_info_db()\n",
    "    with open(csv_path, \"r\", encoding=\"utf-8\") as file:\n",
    "        reader = csv.DictReader(file)\n",
    "        for row in reader:\n",
    "            cursor.execute('''\n",
    "                INSERT OR REPLACE INTO student_info (id, name, faculty, course, cgpa)\n",
    "                           VALUES(?,?,?,?,?)\n",
    "                           ''', (\n",
    "                               row['StudentID'],\n",
    "                               row['Name'],\n",
    "                               row['Faculty'],\n",
    "                               row['Course'],\n",
    "                               float(row['CGPA'])\n",
    "                           ))\n",
    "    conn.commit()\n",
    "    conn.close()\n",
    "\n",
    "insert_from_csv(\"dataset/dataset.csv\")"
   ]
  }
 ],
 "metadata": {
  "kernelspec": {
   "display_name": "environment",
   "language": "python",
   "name": "python3"
  },
  "language_info": {
   "codemirror_mode": {
    "name": "ipython",
    "version": 3
   },
   "file_extension": ".py",
   "mimetype": "text/x-python",
   "name": "python",
   "nbconvert_exporter": "python",
   "pygments_lexer": "ipython3",
   "version": "3.12.9"
  }
 },
 "nbformat": 4,
 "nbformat_minor": 5
}
