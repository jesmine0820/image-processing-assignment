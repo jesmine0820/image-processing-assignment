{
 "cells": [
  {
   "cell_type": "markdown",
   "id": "44761ead",
   "metadata": {},
   "source": [
    "# Prepare Dataset"
   ]
  },
  {
   "cell_type": "code",
   "execution_count": null,
   "id": "26037fa7",
   "metadata": {},
   "outputs": [],
   "source": [
    "# Import necessary libraries\n",
    "import os\n",
    "import cv2 as cv\n",
    "import pickle\n",
    "from insightface.app import FaceAnalysis"
   ]
  },
  {
   "cell_type": "code",
   "execution_count": 12,
   "id": "6d525e2f",
   "metadata": {},
   "outputs": [
    {
     "name": "stderr",
     "output_type": "stream",
     "text": [
      "c:\\Users\\User\\anaconda3\\envs\\environment\\Lib\\site-packages\\onnxruntime\\capi\\onnxruntime_inference_collection.py:121: UserWarning: Specified provider 'GPUExecutionProvider' is not in available provider names.Available providers: 'AzureExecutionProvider, CPUExecutionProvider'\n",
      "  warnings.warn(\n"
     ]
    },
    {
     "name": "stdout",
     "output_type": "stream",
     "text": [
      "*************** EP Error ***************\n",
      "EP Error Unknown Provider Type: GPUExecutionProvider when using ['GPUExecutionProvider']\n",
      "Falling back to ['CPUExecutionProvider'] and retrying.\n",
      "****************************************\n",
      "Applied providers: ['CPUExecutionProvider'], with options: {'CPUExecutionProvider': {}}\n",
      "find model: C:\\Users\\User/.insightface\\models\\buffalo_l\\1k3d68.onnx landmark_3d_68 ['None', 3, 192, 192] 0.0 1.0\n",
      "*************** EP Error ***************\n",
      "EP Error Unknown Provider Type: GPUExecutionProvider when using ['GPUExecutionProvider']\n",
      "Falling back to ['CPUExecutionProvider'] and retrying.\n",
      "****************************************\n",
      "Applied providers: ['CPUExecutionProvider'], with options: {'CPUExecutionProvider': {}}\n",
      "find model: C:\\Users\\User/.insightface\\models\\buffalo_l\\2d106det.onnx landmark_2d_106 ['None', 3, 192, 192] 0.0 1.0\n",
      "*************** EP Error ***************\n",
      "EP Error Unknown Provider Type: GPUExecutionProvider when using ['GPUExecutionProvider']\n",
      "Falling back to ['CPUExecutionProvider'] and retrying.\n",
      "****************************************\n",
      "Applied providers: ['CPUExecutionProvider'], with options: {'CPUExecutionProvider': {}}\n",
      "find model: C:\\Users\\User/.insightface\\models\\buffalo_l\\det_10g.onnx detection [1, 3, '?', '?'] 127.5 128.0\n",
      "*************** EP Error ***************\n",
      "EP Error Unknown Provider Type: GPUExecutionProvider when using ['GPUExecutionProvider']\n",
      "Falling back to ['CPUExecutionProvider'] and retrying.\n",
      "****************************************\n",
      "Applied providers: ['CPUExecutionProvider'], with options: {'CPUExecutionProvider': {}}\n",
      "find model: C:\\Users\\User/.insightface\\models\\buffalo_l\\genderage.onnx genderage ['None', 3, 96, 96] 0.0 1.0\n",
      "*************** EP Error ***************\n",
      "EP Error Unknown Provider Type: GPUExecutionProvider when using ['GPUExecutionProvider']\n",
      "Falling back to ['CPUExecutionProvider'] and retrying.\n",
      "****************************************\n",
      "Applied providers: ['CPUExecutionProvider'], with options: {'CPUExecutionProvider': {}}\n",
      "find model: C:\\Users\\User/.insightface\\models\\buffalo_l\\w600k_r50.onnx recognition ['None', 3, 112, 112] 127.5 127.5\n",
      "set det-size: (640, 640)\n"
     ]
    }
   ],
   "source": [
    "# Initialize Insightface\n",
    "app = FaceAnalysis(providers=['GPUExecutionProvider'])\n",
    "app.prepare(ctx_id=0, det_size=(640, 640))"
   ]
  },
  {
   "cell_type": "code",
   "execution_count": 13,
   "id": "b753a521",
   "metadata": {},
   "outputs": [],
   "source": [
    "# Load the data\n",
    "dataset_path = \"photos\"\n",
    "\n",
    "# List to store name and embedding\n",
    "embeddings_data = []"
   ]
  },
  {
   "cell_type": "code",
   "execution_count": 14,
   "id": "0eb750b4",
   "metadata": {},
   "outputs": [
    {
     "name": "stdout",
     "output_type": "stream",
     "text": [
      "[INFO] Processed 2408863.jpg > 2408863\n",
      "[INFO] Processed 2408866.jpg > 2408866\n",
      "[SUCCESS] Saved embeddings to face_embeddings.pkl\n"
     ]
    }
   ],
   "source": [
    "# Get the data from the directory\n",
    "for filename in os.listdir(dataset_path):\n",
    "    if filename.endswith(('.jpg', '.jpeg', '.png')):\n",
    "        # Read the image\n",
    "        img_path = os.path.join(dataset_path, filename)\n",
    "        img = cv.imread(img_path)\n",
    "        img_rgb = cv.cvtColor(img, cv.COLOR_BGR2RGB)\n",
    "\n",
    "        # Detect face\n",
    "        faces = app.get(img_rgb)\n",
    "        if len(faces) == 0:\n",
    "            print(f\"[WARNING] No face found in {filename}\")\n",
    "            continue\n",
    "\n",
    "        # Get embedding\n",
    "        face = faces[0]\n",
    "        embedding = face.normed_embedding\n",
    "\n",
    "        # Get the ID\n",
    "        id = os.path.splitext(filename)[0]\n",
    "\n",
    "        # Save the data\n",
    "        embeddings_data.append({\n",
    "            'id': id,\n",
    "            'image_name': filename,\n",
    "            'embedding': embedding\n",
    "        })\n",
    "\n",
    "        print(f\"[INFO] Processed {filename} > {id}\")\n",
    "\n",
    "# Step 4: Save to pickle\n",
    "with open(\"processed_data/face_embeddings.pkl\", \"wb\") as f:\n",
    "    pickle.dump(embeddings_data, f)\n",
    "\n",
    "print(\"[SUCCESS] Saved embeddings to face_embeddings.pkl\")"
   ]
  },
  {
   "cell_type": "markdown",
   "id": "bbc7d1c8",
   "metadata": {},
   "source": []
  }
 ],
 "metadata": {
  "kernelspec": {
   "display_name": "environment",
   "language": "python",
   "name": "python3"
  },
  "language_info": {
   "codemirror_mode": {
    "name": "ipython",
    "version": 3
   },
   "file_extension": ".py",
   "mimetype": "text/x-python",
   "name": "python",
   "nbconvert_exporter": "python",
   "pygments_lexer": "ipython3",
   "version": "3.12.9"
  }
 },
 "nbformat": 4,
 "nbformat_minor": 5
}
